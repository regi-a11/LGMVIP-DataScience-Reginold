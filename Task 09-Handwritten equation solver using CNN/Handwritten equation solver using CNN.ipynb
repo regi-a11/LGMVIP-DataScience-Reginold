{
 "cells": [
  {
   "cell_type": "markdown",
   "id": "a1c35eb6",
   "metadata": {},
   "source": [
    "# Let's Grow More (LGMVIP) - \"DATA SCIENCE INTERN\""
   ]
  },
  {
   "cell_type": "markdown",
   "id": "1122b7fb",
   "metadata": {},
   "source": [
    "<font size=\"4\">Author Reginold K Binoy</font>"
   ]
  },
  {
   "cell_type": "markdown",
   "id": "207bb966",
   "metadata": {},
   "source": [
    "## ADVANCED LEVEL TASK"
   ]
  },
  {
   "cell_type": "markdown",
   "id": "2c786f26",
   "metadata": {},
   "source": [
    "### Task 9 -Handwritten Equation Solver"
   ]
  },
  {
   "cell_type": "markdown",
   "id": "22bf8aa0",
   "metadata": {},
   "source": [
    "Handwritten equation solver using CNN :\n",
    "\n",
    "Mathematical equation solver using character and symbol recognition using image processing and CNN. \n",
    "\n",
    "DatasetLink: https://www.kaggle.com/xainano/handwrittenmathsymbols"
   ]
  },
  {
   "cell_type": "markdown",
   "id": "3c4d7a55",
   "metadata": {},
   "source": [
    "# Installing Libraries"
   ]
  },
  {
   "cell_type": "code",
   "execution_count": 1,
   "id": "cb334c6e",
   "metadata": {},
   "outputs": [
    {
     "name": "stdout",
     "output_type": "stream",
     "text": [
      "Requirement already satisfied: tensorflow-metal in /Users/reginoldkbinoy/anaconda3/lib/python3.11/site-packages (1.1.0)\n",
      "Requirement already satisfied: wheel~=0.35 in /Users/reginoldkbinoy/anaconda3/lib/python3.11/site-packages (from tensorflow-metal) (0.38.4)\n",
      "Requirement already satisfied: six>=1.15.0 in /Users/reginoldkbinoy/anaconda3/lib/python3.11/site-packages (from tensorflow-metal) (1.16.0)\n",
      "Note: you may need to restart the kernel to use updated packages.\n"
     ]
    }
   ],
   "source": [
    "pip install tensorflow-metal"
   ]
  },
  {
   "cell_type": "code",
   "execution_count": 1,
   "id": "0d8fbede",
   "metadata": {},
   "outputs": [
    {
     "name": "stdout",
     "output_type": "stream",
     "text": [
      "Requirement already satisfied: tensorflow in /Users/reginoldkbinoy/anaconda3/lib/python3.11/site-packages (2.16.2)\n",
      "Requirement already satisfied: pandas in /Users/reginoldkbinoy/anaconda3/lib/python3.11/site-packages (2.0.3)\n",
      "Requirement already satisfied: matplotlib in /Users/reginoldkbinoy/anaconda3/lib/python3.11/site-packages (3.7.2)\n",
      "Requirement already satisfied: scikit-learn in /Users/reginoldkbinoy/anaconda3/lib/python3.11/site-packages (1.3.0)\n",
      "Collecting kaggle\n",
      "  Downloading kaggle-1.6.17.tar.gz (82 kB)\n",
      "\u001b[2K     \u001b[38;2;114;156;31m━━━━━━━━━━━━━━━━━━━━━━━━━━━━━━━━━━━━━━━\u001b[0m \u001b[32m82.7/82.7 kB\u001b[0m \u001b[31m429.9 kB/s\u001b[0m eta \u001b[36m0:00:00\u001b[0m1m354.3 kB/s\u001b[0m eta \u001b[36m0:00:01\u001b[0m\n",
      "\u001b[?25h  Preparing metadata (setup.py) ... \u001b[?25ldone\n",
      "\u001b[?25hRequirement already satisfied: opencv-python in /Users/reginoldkbinoy/anaconda3/lib/python3.11/site-packages (4.10.0.84)\n",
      "Requirement already satisfied: absl-py>=1.0.0 in /Users/reginoldkbinoy/anaconda3/lib/python3.11/site-packages (from tensorflow) (2.1.0)\n",
      "Requirement already satisfied: astunparse>=1.6.0 in /Users/reginoldkbinoy/anaconda3/lib/python3.11/site-packages (from tensorflow) (1.6.3)\n",
      "Requirement already satisfied: flatbuffers>=23.5.26 in /Users/reginoldkbinoy/anaconda3/lib/python3.11/site-packages (from tensorflow) (24.3.25)\n",
      "Requirement already satisfied: gast!=0.5.0,!=0.5.1,!=0.5.2,>=0.2.1 in /Users/reginoldkbinoy/anaconda3/lib/python3.11/site-packages (from tensorflow) (0.6.0)\n",
      "Requirement already satisfied: google-pasta>=0.1.1 in /Users/reginoldkbinoy/anaconda3/lib/python3.11/site-packages (from tensorflow) (0.2.0)\n",
      "Requirement already satisfied: h5py>=3.10.0 in /Users/reginoldkbinoy/anaconda3/lib/python3.11/site-packages (from tensorflow) (3.11.0)\n",
      "Requirement already satisfied: libclang>=13.0.0 in /Users/reginoldkbinoy/anaconda3/lib/python3.11/site-packages (from tensorflow) (18.1.1)\n",
      "Requirement already satisfied: ml-dtypes~=0.3.1 in /Users/reginoldkbinoy/anaconda3/lib/python3.11/site-packages (from tensorflow) (0.3.2)\n",
      "Requirement already satisfied: opt-einsum>=2.3.2 in /Users/reginoldkbinoy/anaconda3/lib/python3.11/site-packages (from tensorflow) (3.3.0)\n",
      "Requirement already satisfied: packaging in /Users/reginoldkbinoy/anaconda3/lib/python3.11/site-packages (from tensorflow) (23.1)\n",
      "Requirement already satisfied: protobuf!=4.21.0,!=4.21.1,!=4.21.2,!=4.21.3,!=4.21.4,!=4.21.5,<5.0.0dev,>=3.20.3 in /Users/reginoldkbinoy/anaconda3/lib/python3.11/site-packages (from tensorflow) (4.25.4)\n",
      "Requirement already satisfied: requests<3,>=2.21.0 in /Users/reginoldkbinoy/anaconda3/lib/python3.11/site-packages (from tensorflow) (2.31.0)\n",
      "Requirement already satisfied: setuptools in /Users/reginoldkbinoy/anaconda3/lib/python3.11/site-packages (from tensorflow) (68.0.0)\n",
      "Requirement already satisfied: six>=1.12.0 in /Users/reginoldkbinoy/anaconda3/lib/python3.11/site-packages (from tensorflow) (1.16.0)\n",
      "Requirement already satisfied: termcolor>=1.1.0 in /Users/reginoldkbinoy/anaconda3/lib/python3.11/site-packages (from tensorflow) (2.4.0)\n",
      "Requirement already satisfied: typing-extensions>=3.6.6 in /Users/reginoldkbinoy/anaconda3/lib/python3.11/site-packages (from tensorflow) (4.7.1)\n",
      "Requirement already satisfied: wrapt>=1.11.0 in /Users/reginoldkbinoy/anaconda3/lib/python3.11/site-packages (from tensorflow) (1.14.1)\n",
      "Requirement already satisfied: grpcio<2.0,>=1.24.3 in /Users/reginoldkbinoy/anaconda3/lib/python3.11/site-packages (from tensorflow) (1.66.1)\n",
      "Requirement already satisfied: tensorboard<2.17,>=2.16 in /Users/reginoldkbinoy/anaconda3/lib/python3.11/site-packages (from tensorflow) (2.16.2)\n",
      "Requirement already satisfied: keras>=3.0.0 in /Users/reginoldkbinoy/anaconda3/lib/python3.11/site-packages (from tensorflow) (3.5.0)\n",
      "Requirement already satisfied: tensorflow-io-gcs-filesystem>=0.23.1 in /Users/reginoldkbinoy/anaconda3/lib/python3.11/site-packages (from tensorflow) (0.37.1)\n",
      "Requirement already satisfied: numpy<2.0.0,>=1.23.5 in /Users/reginoldkbinoy/anaconda3/lib/python3.11/site-packages (from tensorflow) (1.24.3)\n",
      "Requirement already satisfied: python-dateutil>=2.8.2 in /Users/reginoldkbinoy/anaconda3/lib/python3.11/site-packages (from pandas) (2.8.2)\n",
      "Requirement already satisfied: pytz>=2020.1 in /Users/reginoldkbinoy/anaconda3/lib/python3.11/site-packages (from pandas) (2023.3.post1)\n",
      "Requirement already satisfied: tzdata>=2022.1 in /Users/reginoldkbinoy/anaconda3/lib/python3.11/site-packages (from pandas) (2023.3)\n",
      "Requirement already satisfied: contourpy>=1.0.1 in /Users/reginoldkbinoy/anaconda3/lib/python3.11/site-packages (from matplotlib) (1.0.5)\n",
      "Requirement already satisfied: cycler>=0.10 in /Users/reginoldkbinoy/anaconda3/lib/python3.11/site-packages (from matplotlib) (0.11.0)\n",
      "Requirement already satisfied: fonttools>=4.22.0 in /Users/reginoldkbinoy/anaconda3/lib/python3.11/site-packages (from matplotlib) (4.25.0)\n",
      "Requirement already satisfied: kiwisolver>=1.0.1 in /Users/reginoldkbinoy/anaconda3/lib/python3.11/site-packages (from matplotlib) (1.4.4)\n",
      "Requirement already satisfied: pillow>=6.2.0 in /Users/reginoldkbinoy/anaconda3/lib/python3.11/site-packages (from matplotlib) (9.4.0)\n",
      "Requirement already satisfied: pyparsing<3.1,>=2.3.1 in /Users/reginoldkbinoy/anaconda3/lib/python3.11/site-packages (from matplotlib) (3.0.9)\n",
      "Requirement already satisfied: scipy>=1.5.0 in /Users/reginoldkbinoy/anaconda3/lib/python3.11/site-packages (from scikit-learn) (1.11.1)\n",
      "Requirement already satisfied: joblib>=1.1.1 in /Users/reginoldkbinoy/anaconda3/lib/python3.11/site-packages (from scikit-learn) (1.2.0)\n",
      "Requirement already satisfied: threadpoolctl>=2.0.0 in /Users/reginoldkbinoy/anaconda3/lib/python3.11/site-packages (from scikit-learn) (2.2.0)\n",
      "Requirement already satisfied: certifi>=2023.7.22 in /Users/reginoldkbinoy/anaconda3/lib/python3.11/site-packages (from kaggle) (2023.7.22)\n",
      "Requirement already satisfied: tqdm in /Users/reginoldkbinoy/anaconda3/lib/python3.11/site-packages (from kaggle) (4.65.0)\n",
      "Requirement already satisfied: python-slugify in /Users/reginoldkbinoy/anaconda3/lib/python3.11/site-packages (from kaggle) (5.0.2)\n",
      "Requirement already satisfied: urllib3 in /Users/reginoldkbinoy/anaconda3/lib/python3.11/site-packages (from kaggle) (1.26.16)\n",
      "Requirement already satisfied: bleach in /Users/reginoldkbinoy/anaconda3/lib/python3.11/site-packages (from kaggle) (4.1.0)\n",
      "Requirement already satisfied: wheel<1.0,>=0.23.0 in /Users/reginoldkbinoy/anaconda3/lib/python3.11/site-packages (from astunparse>=1.6.0->tensorflow) (0.38.4)\n",
      "Requirement already satisfied: rich in /Users/reginoldkbinoy/anaconda3/lib/python3.11/site-packages (from keras>=3.0.0->tensorflow) (13.8.0)\n",
      "Requirement already satisfied: namex in /Users/reginoldkbinoy/anaconda3/lib/python3.11/site-packages (from keras>=3.0.0->tensorflow) (0.0.8)\n",
      "Requirement already satisfied: optree in /Users/reginoldkbinoy/anaconda3/lib/python3.11/site-packages (from keras>=3.0.0->tensorflow) (0.12.1)\n",
      "Requirement already satisfied: charset-normalizer<4,>=2 in /Users/reginoldkbinoy/anaconda3/lib/python3.11/site-packages (from requests<3,>=2.21.0->tensorflow) (2.0.4)\n",
      "Requirement already satisfied: idna<4,>=2.5 in /Users/reginoldkbinoy/anaconda3/lib/python3.11/site-packages (from requests<3,>=2.21.0->tensorflow) (3.4)\n",
      "Requirement already satisfied: markdown>=2.6.8 in /Users/reginoldkbinoy/anaconda3/lib/python3.11/site-packages (from tensorboard<2.17,>=2.16->tensorflow) (3.4.1)\n",
      "Requirement already satisfied: tensorboard-data-server<0.8.0,>=0.7.0 in /Users/reginoldkbinoy/anaconda3/lib/python3.11/site-packages (from tensorboard<2.17,>=2.16->tensorflow) (0.7.2)\n",
      "Requirement already satisfied: werkzeug>=1.0.1 in /Users/reginoldkbinoy/anaconda3/lib/python3.11/site-packages (from tensorboard<2.17,>=2.16->tensorflow) (2.2.3)\n",
      "Requirement already satisfied: webencodings in /Users/reginoldkbinoy/anaconda3/lib/python3.11/site-packages (from bleach->kaggle) (0.5.1)\n",
      "Requirement already satisfied: text-unidecode>=1.3 in /Users/reginoldkbinoy/anaconda3/lib/python3.11/site-packages (from python-slugify->kaggle) (1.3)\n",
      "Requirement already satisfied: MarkupSafe>=2.1.1 in /Users/reginoldkbinoy/anaconda3/lib/python3.11/site-packages (from werkzeug>=1.0.1->tensorboard<2.17,>=2.16->tensorflow) (2.1.1)\n",
      "Requirement already satisfied: markdown-it-py>=2.2.0 in /Users/reginoldkbinoy/anaconda3/lib/python3.11/site-packages (from rich->keras>=3.0.0->tensorflow) (2.2.0)\n",
      "Requirement already satisfied: pygments<3.0.0,>=2.13.0 in /Users/reginoldkbinoy/anaconda3/lib/python3.11/site-packages (from rich->keras>=3.0.0->tensorflow) (2.15.1)\n"
     ]
    },
    {
     "name": "stdout",
     "output_type": "stream",
     "text": [
      "Requirement already satisfied: mdurl~=0.1 in /Users/reginoldkbinoy/anaconda3/lib/python3.11/site-packages (from markdown-it-py>=2.2.0->rich->keras>=3.0.0->tensorflow) (0.1.0)\n",
      "Building wheels for collected packages: kaggle\n",
      "  Building wheel for kaggle (setup.py) ... \u001b[?25ldone\n",
      "\u001b[?25h  Created wheel for kaggle: filename=kaggle-1.6.17-py3-none-any.whl size=105789 sha256=a8c51244024c6d97309e290e0001aa5731e8605a5fdd5a6d230b066ae9357e17\n",
      "  Stored in directory: /Users/reginoldkbinoy/Library/Caches/pip/wheels/ff/55/fb/b27a466be754d2a06ffe0e37b248d844f090a63b51becea85d\n",
      "Successfully built kaggle\n",
      "Installing collected packages: kaggle\n",
      "Successfully installed kaggle-1.6.17\n",
      "Note: you may need to restart the kernel to use updated packages.\n"
     ]
    }
   ],
   "source": [
    "pip install tensorflow pandas matplotlib scikit-learn kaggle opencv-python"
   ]
  },
  {
   "cell_type": "markdown",
   "id": "d7a92dbf",
   "metadata": {},
   "source": [
    "# Importing necessary Libraries"
   ]
  },
  {
   "cell_type": "code",
   "execution_count": 2,
   "id": "f380a8f4",
   "metadata": {},
   "outputs": [],
   "source": [
    "import numpy as np\n",
    "import pandas as pd\n",
    "import matplotlib.pyplot as plt\n",
    "import tensorflow as tf\n",
    "from tensorflow.keras import layers, models\n",
    "from sklearn.model_selection import train_test_split\n",
    "import os\n",
    "import cv2\n",
    "from sklearn.preprocessing import LabelBinarizer\n",
    "from sklearn.metrics import classification_report"
   ]
  },
  {
   "cell_type": "markdown",
   "id": "6142e3dc",
   "metadata": {},
   "source": [
    "# Loading and Preprocessing the Dataset"
   ]
  },
  {
   "cell_type": "code",
   "execution_count": 4,
   "id": "0b195daa",
   "metadata": {},
   "outputs": [],
   "source": [
    "# Load the dataset from local path\n",
    "dataset_dir = '/Users/reginoldkbinoy/Desktop/LGMVIP-DataScience-Reginold/Task 9/archive/extracted_images/'  # Set your path here\n",
    "\n",
    "# Image size (You can resize based on the dataset specifics)\n",
    "IMG_SIZE = 45\n",
    "\n",
    "# Initialize the data and labels\n",
    "data = []\n",
    "labels = []\n",
    "\n",
    "# Loop over the dataset images\n",
    "for folder in os.listdir(dataset_dir):\n",
    "    folder_path = os.path.join(dataset_dir, folder)\n",
    "    if os.path.isdir(folder_path):\n",
    "        for file in os.listdir(folder_path):\n",
    "            image_path = os.path.join(folder_path, file)\n",
    "            image = cv2.imread(image_path, cv2.IMREAD_GRAYSCALE)  # Load image as grayscale\n",
    "            image = cv2.resize(image, (IMG_SIZE, IMG_SIZE))  # Resize image\n",
    "            data.append(image)\n",
    "            labels.append(folder)\n",
    "\n",
    "# Convert data to numpy arrays\n",
    "data = np.array(data, dtype=\"float32\")\n",
    "data = np.expand_dims(data, axis=-1)  # Add channel dimension\n",
    "\n",
    "# Normalize the data\n",
    "data = data / 255.0\n",
    "\n",
    "# One-hot encode the labels\n",
    "lb = LabelBinarizer()\n",
    "labels = lb.fit_transform(labels)\n",
    "labels = np.array(labels)\n",
    "\n",
    "# Split the dataset into training and testing sets\n",
    "(trainX, testX, trainY, testY) = train_test_split(data, labels, test_size=0.2, random_state=42)\n"
   ]
  },
  {
   "cell_type": "markdown",
   "id": "01034943",
   "metadata": {},
   "source": [
    "# Building the CNN Model"
   ]
  },
  {
   "cell_type": "code",
   "execution_count": 6,
   "id": "a90efcd1",
   "metadata": {},
   "outputs": [],
   "source": [
    "from tensorflow.keras import Input\n",
    "\n",
    "# Build the CNN model\n",
    "model = models.Sequential([\n",
    "    Input(shape=(IMG_SIZE, IMG_SIZE, 1)),  # Use Input layer instead of passing input_shape in Conv2D\n",
    "    layers.Conv2D(32, (3, 3), activation='relu'),\n",
    "    layers.MaxPooling2D((2, 2)),\n",
    "    layers.Conv2D(64, (3, 3), activation='relu'),\n",
    "    layers.MaxPooling2D((2, 2)),\n",
    "    layers.Conv2D(128, (3, 3), activation='relu'),\n",
    "    layers.MaxPooling2D((2, 2)),\n",
    "    layers.Flatten(),\n",
    "    layers.Dense(128, activation='relu'),\n",
    "    layers.Dropout(0.5),\n",
    "    layers.Dense(len(lb.classes_), activation='softmax')  # Output layer\n",
    "])\n",
    "\n",
    "# Compile the model\n",
    "model.compile(optimizer='adam', loss='categorical_crossentropy', metrics=['accuracy'])\n"
   ]
  },
  {
   "cell_type": "markdown",
   "id": "687471ed",
   "metadata": {},
   "source": [
    "# Training the Model"
   ]
  },
  {
   "cell_type": "code",
   "execution_count": 7,
   "id": "4bccbb77",
   "metadata": {},
   "outputs": [
    {
     "name": "stdout",
     "output_type": "stream",
     "text": [
      "Epoch 1/15\n"
     ]
    },
    {
     "name": "stderr",
     "output_type": "stream",
     "text": [
      "2024-09-22 17:21:58.078590: I tensorflow/core/grappler/optimizers/custom_graph_optimizer_registry.cc:117] Plugin optimizer for device_type GPU is enabled.\n"
     ]
    },
    {
     "name": "stdout",
     "output_type": "stream",
     "text": [
      "\u001b[1m2411/2411\u001b[0m \u001b[32m━━━━━━━━━━━━━━━━━━━━\u001b[0m\u001b[37m\u001b[0m \u001b[1m54s\u001b[0m 22ms/step - accuracy: 0.9151 - loss: 0.2536 - val_accuracy: 0.9836 - val_loss: 0.0522\n",
      "Epoch 2/15\n",
      "\u001b[1m2411/2411\u001b[0m \u001b[32m━━━━━━━━━━━━━━━━━━━━\u001b[0m\u001b[37m\u001b[0m \u001b[1m52s\u001b[0m 22ms/step - accuracy: 0.9827 - loss: 0.0624 - val_accuracy: 0.9882 - val_loss: 0.0369\n",
      "Epoch 3/15\n",
      "\u001b[1m2411/2411\u001b[0m \u001b[32m━━━━━━━━━━━━━━━━━━━━\u001b[0m\u001b[37m\u001b[0m \u001b[1m53s\u001b[0m 22ms/step - accuracy: 0.9860 - loss: 0.0489 - val_accuracy: 0.9885 - val_loss: 0.0369\n",
      "Epoch 4/15\n",
      "\u001b[1m2411/2411\u001b[0m \u001b[32m━━━━━━━━━━━━━━━━━━━━\u001b[0m\u001b[37m\u001b[0m \u001b[1m53s\u001b[0m 22ms/step - accuracy: 0.9881 - loss: 0.0413 - val_accuracy: 0.9904 - val_loss: 0.0322\n",
      "Epoch 5/15\n",
      "\u001b[1m2411/2411\u001b[0m \u001b[32m━━━━━━━━━━━━━━━━━━━━\u001b[0m\u001b[37m\u001b[0m \u001b[1m53s\u001b[0m 22ms/step - accuracy: 0.9889 - loss: 0.0362 - val_accuracy: 0.9903 - val_loss: 0.0289\n",
      "Epoch 6/15\n",
      "\u001b[1m2411/2411\u001b[0m \u001b[32m━━━━━━━━━━━━━━━━━━━━\u001b[0m\u001b[37m\u001b[0m \u001b[1m53s\u001b[0m 22ms/step - accuracy: 0.9912 - loss: 0.0297 - val_accuracy: 0.9898 - val_loss: 0.0313\n",
      "Epoch 7/15\n",
      "\u001b[1m2411/2411\u001b[0m \u001b[32m━━━━━━━━━━━━━━━━━━━━\u001b[0m\u001b[37m\u001b[0m \u001b[1m53s\u001b[0m 22ms/step - accuracy: 0.9913 - loss: 0.0274 - val_accuracy: 0.9939 - val_loss: 0.0215\n",
      "Epoch 8/15\n",
      "\u001b[1m2411/2411\u001b[0m \u001b[32m━━━━━━━━━━━━━━━━━━━━\u001b[0m\u001b[37m\u001b[0m \u001b[1m53s\u001b[0m 22ms/step - accuracy: 0.9931 - loss: 0.0234 - val_accuracy: 0.9926 - val_loss: 0.0240\n",
      "Epoch 9/15\n",
      "\u001b[1m2411/2411\u001b[0m \u001b[32m━━━━━━━━━━━━━━━━━━━━\u001b[0m\u001b[37m\u001b[0m \u001b[1m53s\u001b[0m 22ms/step - accuracy: 0.9936 - loss: 0.0201 - val_accuracy: 0.9938 - val_loss: 0.0199\n",
      "Epoch 10/15\n",
      "\u001b[1m2411/2411\u001b[0m \u001b[32m━━━━━━━━━━━━━━━━━━━━\u001b[0m\u001b[37m\u001b[0m \u001b[1m53s\u001b[0m 22ms/step - accuracy: 0.9946 - loss: 0.0167 - val_accuracy: 0.9950 - val_loss: 0.0168\n",
      "Epoch 11/15\n",
      "\u001b[1m2411/2411\u001b[0m \u001b[32m━━━━━━━━━━━━━━━━━━━━\u001b[0m\u001b[37m\u001b[0m \u001b[1m53s\u001b[0m 22ms/step - accuracy: 0.9951 - loss: 0.0155 - val_accuracy: 0.9951 - val_loss: 0.0186\n",
      "Epoch 12/15\n",
      "\u001b[1m2411/2411\u001b[0m \u001b[32m━━━━━━━━━━━━━━━━━━━━\u001b[0m\u001b[37m\u001b[0m \u001b[1m53s\u001b[0m 22ms/step - accuracy: 0.9959 - loss: 0.0125 - val_accuracy: 0.9963 - val_loss: 0.0152\n",
      "Epoch 13/15\n",
      "\u001b[1m2411/2411\u001b[0m \u001b[32m━━━━━━━━━━━━━━━━━━━━\u001b[0m\u001b[37m\u001b[0m \u001b[1m53s\u001b[0m 22ms/step - accuracy: 0.9967 - loss: 0.0102 - val_accuracy: 0.9970 - val_loss: 0.0115\n",
      "Epoch 14/15\n",
      "\u001b[1m2411/2411\u001b[0m \u001b[32m━━━━━━━━━━━━━━━━━━━━\u001b[0m\u001b[37m\u001b[0m \u001b[1m53s\u001b[0m 22ms/step - accuracy: 0.9968 - loss: 0.0100 - val_accuracy: 0.9961 - val_loss: 0.0153\n",
      "Epoch 15/15\n",
      "\u001b[1m2411/2411\u001b[0m \u001b[32m━━━━━━━━━━━━━━━━━━━━\u001b[0m\u001b[37m\u001b[0m \u001b[1m53s\u001b[0m 22ms/step - accuracy: 0.9967 - loss: 0.0100 - val_accuracy: 0.9967 - val_loss: 0.0131\n"
     ]
    }
   ],
   "source": [
    "# Train the CNN model\n",
    "EPOCHS = 15  # You can adjust the number of epochs based on performance\n",
    "BATCH_SIZE = 32\n",
    "\n",
    "history = model.fit(trainX, trainY, validation_data=(testX, testY), batch_size=BATCH_SIZE, epochs=EPOCHS, verbose=1)\n"
   ]
  },
  {
   "cell_type": "markdown",
   "id": "4674c70d",
   "metadata": {},
   "source": [
    "# Evaluating the Model"
   ]
  },
  {
   "cell_type": "code",
   "execution_count": 8,
   "id": "0ea3fc17",
   "metadata": {},
   "outputs": [
    {
     "name": "stdout",
     "output_type": "stream",
     "text": [
      "\u001b[1m603/603\u001b[0m \u001b[32m━━━━━━━━━━━━━━━━━━━━\u001b[0m\u001b[37m\u001b[0m \u001b[1m4s\u001b[0m 7ms/step - accuracy: 0.9973 - loss: 0.0114\n",
      "Test accuracy: 99.67%\n",
      "\u001b[1m603/603\u001b[0m \u001b[32m━━━━━━━━━━━━━━━━━━━━\u001b[0m\u001b[37m\u001b[0m \u001b[1m1s\u001b[0m 2ms/step\n",
      "              precision    recall  f1-score   support\n",
      "\n",
      "           !       1.00      1.00      1.00       260\n",
      "           (       1.00      1.00      1.00      2931\n",
      "           )       0.99      1.00      0.99      2845\n",
      "           +       1.00      1.00      1.00      5029\n",
      "           ,       0.96      0.89      0.93       367\n",
      "           -       1.00      1.00      1.00      6811\n",
      "           0       1.00      1.00      1.00      1043\n",
      "\n",
      "    accuracy                           1.00     19286\n",
      "   macro avg       0.99      0.98      0.99     19286\n",
      "weighted avg       1.00      1.00      1.00     19286\n",
      "\n"
     ]
    }
   ],
   "source": [
    "# Evaluate the model on the test set\n",
    "test_loss, test_acc = model.evaluate(testX, testY, verbose=1)\n",
    "print(f\"Test accuracy: {test_acc * 100:.2f}%\")\n",
    "\n",
    "# Generate a classification report\n",
    "predictions = model.predict(testX, batch_size=BATCH_SIZE)\n",
    "print(classification_report(testY.argmax(axis=1), predictions.argmax(axis=1), target_names=lb.classes_))\n"
   ]
  },
  {
   "cell_type": "markdown",
   "id": "e59e48dc",
   "metadata": {},
   "source": [
    "# Visualizing Training Performance"
   ]
  },
  {
   "cell_type": "code",
   "execution_count": 9,
   "id": "b9ce8cd8",
   "metadata": {},
   "outputs": [
    {
     "data": {
      "image/png": "[encoded data removed]",
      "text/plain": [
       "<Figure size 1200x400 with 2 Axes>"
      ]
     },
     "metadata": {},
     "output_type": "display_data"
    }
   ],
   "source": [
    "# Plot the training history\n",
    "plt.figure(figsize=(12, 4))\n",
    "plt.subplot(1, 2, 1)\n",
    "plt.plot(history.history['accuracy'], label='Training Accuracy')\n",
    "plt.plot(history.history['val_accuracy'], label='Validation Accuracy')\n",
    "plt.legend()\n",
    "plt.title('Accuracy')\n",
    "\n",
    "plt.subplot(1, 2, 2)\n",
    "plt.plot(history.history['loss'], label='Training Loss')\n",
    "plt.plot(history.history['val_loss'], label='Validation Loss')\n",
    "plt.legend()\n",
    "plt.title('Loss')\n",
    "\n",
    "plt.show()"
   ]
  },
  {
   "cell_type": "markdown",
   "id": "55932962",
   "metadata": {},
   "source": [
    "# Testing with New Data"
   ]
  },
  {
   "cell_type": "code",
   "execution_count": 13,
   "id": "6f58ea14",
   "metadata": {},
   "outputs": [
    {
     "name": "stdout",
     "output_type": "stream",
     "text": [
      "\u001b[1m1/1\u001b[0m \u001b[32m━━━━━━━━━━━━━━━━━━━━\u001b[0m\u001b[37m\u001b[0m \u001b[1m1s\u001b[0m 1s/step\n",
      "Recognized Symbol: )\n"
     ]
    }
   ],
   "source": [
    "def recognize_symbol(image):\n",
    "    image = cv2.resize(image, (IMG_SIZE, IMG_SIZE))\n",
    "    image = np.expand_dims(image, axis=-1)\n",
    "    image = np.expand_dims(image, axis=0)\n",
    "    image = image / 255.0\n",
    "    prediction = model.predict(image)\n",
    "    return lb.classes_[np.argmax(prediction)]\n",
    "\n",
    "# Example usage\n",
    "test_image = cv2.imread('/Users/reginoldkbinoy/Desktop/LGMVIP-DataScience-Reginold/Task 9/archive/extracted_images/)/)_1922.jpg', cv2.IMREAD_GRAYSCALE)\n",
    "recognized_symbol = recognize_symbol(test_image)\n",
    "print(f\"Recognized Symbol: {recognized_symbol}\")"
   ]
  },
  {
   "cell_type": "code",
   "execution_count": 14,
   "id": "9d29af0f",
   "metadata": {},
   "outputs": [
    {
     "name": "stdout",
     "output_type": "stream",
     "text": [
      "\u001b[1m1/1\u001b[0m \u001b[32m━━━━━━━━━━━━━━━━━━━━\u001b[0m\u001b[37m\u001b[0m \u001b[1m0s\u001b[0m 17ms/step\n",
      "Recognized Symbol: +\n"
     ]
    }
   ],
   "source": [
    "def recognize_symbol(image):\n",
    "    image = cv2.resize(image, (IMG_SIZE, IMG_SIZE))\n",
    "    image = np.expand_dims(image, axis=-1)\n",
    "    image = np.expand_dims(image, axis=0)\n",
    "    image = image / 255.0\n",
    "    prediction = model.predict(image)\n",
    "    return lb.classes_[np.argmax(prediction)]\n",
    "\n",
    "# Example usage\n",
    "test_image = cv2.imread('/Users/reginoldkbinoy/Desktop/LGMVIP-DataScience-Reginold/Task 9/archive/extracted_images/+/+_132.jpg', cv2.IMREAD_GRAYSCALE)\n",
    "recognized_symbol = recognize_symbol(test_image)\n",
    "print(f\"Recognized Symbol: {recognized_symbol}\")"
   ]
  },
  {
   "cell_type": "code",
   "execution_count": 15,
   "id": "f0624eb8",
   "metadata": {},
   "outputs": [
    {
     "name": "stdout",
     "output_type": "stream",
     "text": [
      "\u001b[1m1/1\u001b[0m \u001b[32m━━━━━━━━━━━━━━━━━━━━\u001b[0m\u001b[37m\u001b[0m \u001b[1m0s\u001b[0m 16ms/step\n",
      "Recognized Symbol: !\n"
     ]
    }
   ],
   "source": [
    "def recognize_symbol(image):\n",
    "    image = cv2.resize(image, (IMG_SIZE, IMG_SIZE))\n",
    "    image = np.expand_dims(image, axis=-1)\n",
    "    image = np.expand_dims(image, axis=0)\n",
    "    image = image / 255.0\n",
    "    prediction = model.predict(image)\n",
    "    return lb.classes_[np.argmax(prediction)]\n",
    "\n",
    "# Example usage\n",
    "test_image = cv2.imread('/Users/reginoldkbinoy/Desktop/LGMVIP-DataScience-Reginold/Task 9/archive/extracted_images/!/!_20881.jpg', cv2.IMREAD_GRAYSCALE)\n",
    "recognized_symbol = recognize_symbol(test_image)\n",
    "print(f\"Recognized Symbol: {recognized_symbol}\")"
   ]
  },
  {
   "cell_type": "code",
   "execution_count": 16,
   "id": "78f81809",
   "metadata": {},
   "outputs": [
    {
     "name": "stdout",
     "output_type": "stream",
     "text": [
      "\u001b[1m1/1\u001b[0m \u001b[32m━━━━━━━━━━━━━━━━━━━━\u001b[0m\u001b[37m\u001b[0m \u001b[1m0s\u001b[0m 17ms/step\n",
      "Recognized Symbol: +\n"
     ]
    }
   ],
   "source": [
    "def recognize_symbol(image):\n",
    "    image = cv2.resize(image, (IMG_SIZE, IMG_SIZE))\n",
    "    image = np.expand_dims(image, axis=-1)\n",
    "    image = np.expand_dims(image, axis=0)\n",
    "    image = image / 255.0\n",
    "    prediction = model.predict(image)\n",
    "    return lb.classes_[np.argmax(prediction)]\n",
    "\n",
    "# Example usage\n",
    "test_image = cv2.imread('/Users/reginoldkbinoy/Desktop/LGMVIP-DataScience-Reginold/Task 9/simple.jpg', cv2.IMREAD_GRAYSCALE)\n",
    "recognized_symbol = recognize_symbol(test_image)\n",
    "print(f\"Recognized Symbol: {recognized_symbol}\")"
   ]
  },
  {
   "cell_type": "markdown",
   "id": "6ed7ce25",
   "metadata": {},
   "source": [
    "# Thank You"
   ]
  },
  {
   "cell_type": "code",
   "execution_count": null,
   "id": "de76ce84",
   "metadata": {},
   "outputs": [],
   "source": []
  }
 ],
 "metadata": {
  "kernelspec": {
   "display_name": "Python 3 (ipykernel)",
   "language": "python",
   "name": "python3"
  },
  "language_info": {
   "codemirror_mode": {
    "name": "ipython",
    "version": 3
   },
   "file_extension": ".py",
   "mimetype": "text/x-python",
   "name": "python",
   "nbconvert_exporter": "python",
   "pygments_lexer": "ipython3",
   "version": "3.11.5"
  },
  "varInspector": {
   "cols": {
    "lenName": 16,
    "lenType": 16,
    "lenVar": 40
   },
   "kernels_config": {
    "python": {
     "delete_cmd_postfix": "",
     "delete_cmd_prefix": "del ",
     "library": "var_list.py",
     "varRefreshCmd": "print(var_dic_list())"
    },
    "r": {
     "delete_cmd_postfix": ") ",
     "delete_cmd_prefix": "rm(",
     "library": "var_list.r",
     "varRefreshCmd": "cat(var_dic_list()) "
    }
   },
   "types_to_exclude": [
    "module",
    "function",
    "builtin_function_or_method",
    "instance",
    "_Feature"
   ],
   "window_display": false
  }
 },
 "nbformat": 4,
 "nbformat_minor": 5
}
